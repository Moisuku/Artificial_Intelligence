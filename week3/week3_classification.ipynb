{
 "cells": [
  {
   "cell_type": "code",
   "execution_count": 29,
   "id": "870d21b0-5174-4696-9f4a-bf95ff7d21e6",
   "metadata": {},
   "outputs": [],
   "source": [
    "import pandas as pd\n",
    "from sklearn.model_selection import train_test_split\n",
    "from sklearn.preprocessing import StandardScaler, LabelEncoder\n",
    "from sklearn.svm import SVC\n",
    "from sklearn.metrics import accuracy_score\n",
    "from sklearn.metrics import confusion_matrix\n",
    "from sklearn.tree import DecisionTreeClassifier\n",
    "from sklearn.ensemble import RandomForestClassifier"
   ]
  },
  {
   "cell_type": "markdown",
   "id": "4f2975d0-1b79-4a25-9af3-76aa1b9b8bae",
   "metadata": {},
   "source": [
    "# 파일 불러오기"
   ]
  },
  {
   "cell_type": "code",
   "execution_count": 30,
   "id": "acc4fb07-7f39-4a43-bbef-1f6ecad3e23b",
   "metadata": {},
   "outputs": [],
   "source": [
    "df = pd.read_csv(\"C:\\\\AI\\\\car_evaluation.csv\") # 컬럼이 없을때는 header = None 붙이기\n",
    "df\n",
    "# 컬럼을 붙이고 싶다면 \n",
    "df.columns = ['price', 'maint', 'doors', 'persons', 'lug_capacity', 'safety','output']"
   ]
  },
  {
   "cell_type": "code",
   "execution_count": 31,
   "id": "2ee35f10-0138-4225-b0aa-930368b6f989",
   "metadata": {},
   "outputs": [],
   "source": [
    "# 불필요한 컬럼 제거 \n",
    "#df.drop(columns=['id'], inplace=True)\n",
    "\n",
    "# 문자형 데이터를 숫자로 변환 (엔코딩)\n",
    "encoder = LabelEncoder()\n",
    "df['price'] = encoder.fit_transform(df['price'])\n",
    "df['maint'] = encoder.fit_transform(df['maint'])\n",
    "df['doors'] = encoder.fit_transform(df['doors'])\n",
    "df['persons'] = encoder.fit_transform(df['persons'])\n",
    "df['lug_capacity'] = encoder.fit_transform(df['lug_capacity'])\n",
    "df['safety'] = encoder.fit_transform(df['safety'])\n"
   ]
  },
  {
   "cell_type": "markdown",
   "id": "a28c2489-8b86-4f5f-8428-9b5a8f6bbe88",
   "metadata": {},
   "source": [
    "# 결측치 확인"
   ]
  },
  {
   "cell_type": "code",
   "execution_count": 32,
   "id": "0ff668a2-5009-4eba-9c14-7a92dbc4ad35",
   "metadata": {},
   "outputs": [
    {
     "data": {
      "text/plain": [
       "price           0\n",
       "maint           0\n",
       "doors           0\n",
       "persons         0\n",
       "lug_capacity    0\n",
       "safety          0\n",
       "output          0\n",
       "dtype: int64"
      ]
     },
     "execution_count": 32,
     "metadata": {},
     "output_type": "execute_result"
    }
   ],
   "source": [
    "df.isnull().sum()"
   ]
  },
  {
   "cell_type": "code",
   "execution_count": 33,
   "id": "87fc7e24-0a5c-4443-8d42-42bd3cd0b2df",
   "metadata": {},
   "outputs": [],
   "source": [
    "# 결측치를 평균값으로 채우기 (있을때만)\n",
    "# df.fillna(df.mean(), inplace=True) \n",
    "\n",
    "# 특성과 라벨 분리 \n",
    "X = df.drop(columns=['output'])\n",
    "y = df['output']"
   ]
  },
  {
   "cell_type": "markdown",
   "id": "6ff5e9ec-23dc-4390-af35-483cb447ee81",
   "metadata": {},
   "source": [
    "# 정규화 및 데이터 분할"
   ]
  },
  {
   "cell_type": "code",
   "execution_count": 34,
   "id": "1b860de7-4e5e-40ec-a0bb-2ba81cef5b9f",
   "metadata": {},
   "outputs": [
    {
     "name": "stdout",
     "output_type": "stream",
     "text": [
      "(1381, 6) (346, 6) (1381,) (346,)\n"
     ]
    }
   ],
   "source": [
    "# 정규화 \n",
    "scaler = StandardScaler()\n",
    "X = scaler.fit_transform(X)\n",
    "\n",
    "# 훈련/테스트 데이터 분할 \n",
    "X_train, X_test, y_train, y_test = train_test_split(X, y, test_size=0.2, random_state=0)\n",
    "\n",
    "# shape를 통해 제대로 분리 됐는지 확인\n",
    "print(X_train.shape, X_test.shape, y_train.shape, y_test.shape)"
   ]
  },
  {
   "cell_type": "markdown",
   "id": "23773862-e529-464f-b914-e67d3609d959",
   "metadata": {},
   "source": [
    "# SVM"
   ]
  },
  {
   "cell_type": "code",
   "execution_count": 35,
   "id": "2ed76d3f-7a65-44f2-837f-459ce06661a0",
   "metadata": {},
   "outputs": [
    {
     "name": "stdout",
     "output_type": "stream",
     "text": [
      "\n",
      "--- SVM Classifier ---\n",
      "0.8786127167630058\n",
      "[[ 62   1  14   0]\n",
      " [  9   4   0   1]\n",
      " [ 17   0 222   0]\n",
      " [  0   0   0  16]]\n"
     ]
    }
   ],
   "source": [
    "# SVM\n",
    "clf_svm = SVC(random_state=0)\n",
    "clf_svm.fit(X_train, y_train)\n",
    "\n",
    "pred_svm = clf_svm.predict(X_test)\n",
    "\n",
    "print(\"\\n--- SVM Classifier ---\")\n",
    "print(accuracy_score(y_test, pred_svm))\n",
    "print(confusion_matrix(y_test, pred_svm))"
   ]
  },
  {
   "cell_type": "markdown",
   "id": "cc9e7fc8-8822-44f7-a578-174f1fb4c821",
   "metadata": {},
   "source": [
    "# DecisionTree / DT"
   ]
  },
  {
   "cell_type": "code",
   "execution_count": 36,
   "id": "62dc4fd5-18aa-499b-a6d9-93c6e7ff88a4",
   "metadata": {},
   "outputs": [
    {
     "name": "stdout",
     "output_type": "stream",
     "text": [
      "\n",
      "--- Decision Tree Classifier ---\n",
      "0.976878612716763\n",
      "[[ 74   0   3   0]\n",
      " [  0  12   0   2]\n",
      " [  0   0 239   0]\n",
      " [  3   0   0  13]]\n"
     ]
    }
   ],
   "source": [
    "# DecisionTree / DT\n",
    "clf_dt = DecisionTreeClassifier(random_state=0)\n",
    "clf_dt.fit(X_train, y_train)\n",
    "\n",
    "pred_dt = clf_dt.predict(X_test)\n",
    "\n",
    "print (\"\\n--- Decision Tree Classifier ---\")\n",
    "print (accuracy_score(y_test, pred_dt))\n",
    "print (confusion_matrix(y_test, pred_dt))"
   ]
  },
  {
   "cell_type": "markdown",
   "id": "fadff50b-5937-4587-a0b1-4a518f648a19",
   "metadata": {},
   "source": [
    "# RandomForest / RF"
   ]
  },
  {
   "cell_type": "code",
   "execution_count": 37,
   "id": "bbf3100b-13c1-42de-8be8-ba524cbfe2f2",
   "metadata": {},
   "outputs": [
    {
     "name": "stdout",
     "output_type": "stream",
     "text": [
      "\n",
      "--- Random Forest ---\n",
      "0.9739884393063584\n",
      "[[ 72   1   4   0]\n",
      " [  1  10   0   3]\n",
      " [  0   0 239   0]\n",
      " [  0   0   0  16]]\n"
     ]
    }
   ],
   "source": [
    "# RandomForest / RF\n",
    "rf_clf = RandomForestClassifier(random_state=0)\n",
    "rf_clf.fit(X_train, y_train)\n",
    "\n",
    "pred = rf_clf.predict(X_test)\n",
    "\n",
    "print (\"\\n--- Random Forest ---\")\n",
    "print (accuracy_score(y_test,pred))\n",
    "print (confusion_matrix(y_test, pred))"
   ]
  },
  {
   "cell_type": "code",
   "execution_count": null,
   "id": "c53b2af6-2e1b-46c5-ac79-992d0e0fce60",
   "metadata": {},
   "outputs": [],
   "source": []
  }
 ],
 "metadata": {
  "kernelspec": {
   "display_name": "Python 3 (ipykernel)",
   "language": "python",
   "name": "python3"
  },
  "language_info": {
   "codemirror_mode": {
    "name": "ipython",
    "version": 3
   },
   "file_extension": ".py",
   "mimetype": "text/x-python",
   "name": "python",
   "nbconvert_exporter": "python",
   "pygments_lexer": "ipython3",
   "version": "3.12.7"
  }
 },
 "nbformat": 4,
 "nbformat_minor": 5
}
