{
 "cells": [
  {
   "cell_type": "code",
   "execution_count": 3,
   "id": "29c19e75-36e4-497d-b95e-d4fca72ca4e0",
   "metadata": {},
   "outputs": [],
   "source": [
    "import pandas as pd\n",
    "import numpy as np\n",
    "import torch\n",
    "import torch.nn as nn\n",
    "import torch.optim as optim\n",
    "from sklearn.preprocessing import StandardScaler\n",
    "from sklearn.model_selection import train_test_split\n",
    "from torch.utils.data import Dataset, DataLoader, TensorDataset\n",
    "from sklearn.preprocessing import LabelEncoder\n",
    "from sklearn.metrics import precision_score, recall_score, f1_score, roc_auc_score, confusion_matrix, ConfusionMatrixDisplay\n",
    "from sklearn import datasets, metrics\n",
    "\n",
    "import matplotlib.pyplot as plt\n",
    "from torchsummary import summary\n",
    "import numpy as np"
   ]
  },
  {
   "cell_type": "code",
   "execution_count": 4,
   "id": "b9dd4a95-d243-4660-bb30-c06966cea14d",
   "metadata": {},
   "outputs": [
    {
     "data": {
      "text/plain": [
       "<matplotlib.image.AxesImage at 0x17396b5bd40>"
      ]
     },
     "execution_count": 4,
     "metadata": {},
     "output_type": "execute_result"
    },
    {
     "data": {
      "image/png": "[encoded data removed]",
      "text/plain": [
       "<Figure size 640x480 with 1 Axes>"
      ]
     },
     "metadata": {},
     "output_type": "display_data"
    }
   ],
   "source": [
    "digits = datasets.load_digits()\n",
    "plt.imshow(digits.images[0], cmap=plt.cm.gray_r, interpolation='nearest')"
   ]
  },
  {
   "cell_type": "markdown",
   "id": "f5c6a7a4-3dfd-422c-ac83-2f536f1f2d4e",
   "metadata": {},
   "source": [
    "# 원핫 엔코딩"
   ]
  },
  {
   "cell_type": "code",
   "execution_count": 5,
   "id": "96393f8e-957a-4fae-a41e-34edc0fa9859",
   "metadata": {},
   "outputs": [],
   "source": [
    "Y = pd.get_dummies(digits.target).values"
   ]
  },
  {
   "cell_type": "code",
   "execution_count": 6,
   "id": "38a27255-ba3b-4925-82ad-ef629d16af91",
   "metadata": {},
   "outputs": [
    {
     "data": {
      "text/plain": [
       "array([[ True, False, False, ..., False, False, False],\n",
       "       [False,  True, False, ..., False, False, False],\n",
       "       [False, False,  True, ..., False, False, False],\n",
       "       ...,\n",
       "       [False, False, False, ..., False,  True, False],\n",
       "       [False, False, False, ..., False, False,  True],\n",
       "       [False, False, False, ..., False,  True, False]])"
      ]
     },
     "execution_count": 6,
     "metadata": {},
     "output_type": "execute_result"
    }
   ],
   "source": [
    "Y"
   ]
  },
  {
   "cell_type": "code",
   "execution_count": 7,
   "id": "c792bebd-6f58-4652-a0c6-9bda467bb3f2",
   "metadata": {},
   "outputs": [],
   "source": [
    "X = digits.data"
   ]
  },
  {
   "cell_type": "markdown",
   "id": "b1532bc9-0e8a-4ebd-877b-3f886e5fcf9b",
   "metadata": {},
   "source": [
    "# 데이터 분할"
   ]
  },
  {
   "cell_type": "code",
   "execution_count": 32,
   "id": "0311e1b9-8f66-4e83-9ef2-872cb0837598",
   "metadata": {},
   "outputs": [
    {
     "name": "stdout",
     "output_type": "stream",
     "text": [
      "(1437, 64) (360, 64) (1437, 10) (360, 10)\n"
     ]
    }
   ],
   "source": [
    "from sklearn.model_selection import train_test_split\n",
    "X_train,X_test, y_train,y_test = train_test_split(X,Y,test_size=0.2) \n",
    "\n",
    "# shape를 통해 제대로 분리 됐는지 확인\n",
    "print(X_train.shape, X_test.shape, y_train.shape, y_test.shape)"
   ]
  },
  {
   "cell_type": "code",
   "execution_count": 33,
   "id": "2aefddea-d28c-4569-962b-8f3648e1a746",
   "metadata": {},
   "outputs": [],
   "source": [
    "y_train = np.argmax(y_train, axis=1)\n",
    "y_test = np.argmax(y_test, axis=1)"
   ]
  },
  {
   "cell_type": "code",
   "execution_count": 34,
   "id": "4d86e280-80c7-4ab4-ab19-3fea6771e433",
   "metadata": {},
   "outputs": [],
   "source": [
    "# Convert to PyTorch tensors\n",
    "X_train = torch.tensor(X_train, dtype=torch.float32)\n",
    "y_train = torch.tensor(y_train, dtype=torch.long)\n",
    "X_test = torch.tensor(X_test, dtype=torch.float32)\n",
    "y_test = torch.tensor(y_test, dtype=torch.long)"
   ]
  },
  {
   "cell_type": "code",
   "execution_count": 35,
   "id": "80239e83-5b93-494a-bc44-a714fe119ba5",
   "metadata": {},
   "outputs": [],
   "source": [
    "# Create DataLoader\n",
    "train_dataset = TensorDataset(X_train, y_train)\n",
    "train_dataloader = DataLoader(train_dataset, batch_size=32, shuffle=True)\n",
    "\n",
    "test_dataset = TensorDataset(X_test, y_test)\n",
    "test_dataloader = DataLoader(test_dataset, batch_size=32, shuffle=False)"
   ]
  },
  {
   "cell_type": "code",
   "execution_count": 36,
   "id": "a247c222-ccee-459d-a232-8d38c5093578",
   "metadata": {},
   "outputs": [
    {
     "data": {
      "text/plain": [
       "(torch.Size([1437, 64]),\n",
       " torch.Size([360, 64]),\n",
       " torch.Size([1437]),\n",
       " torch.Size([360]))"
      ]
     },
     "execution_count": 36,
     "metadata": {},
     "output_type": "execute_result"
    }
   ],
   "source": [
    "X_train.shape, X_test.shape, y_train.shape, y_test.shape"
   ]
  },
  {
   "cell_type": "markdown",
   "id": "04b4770c-8019-4863-9135-3d186b5e339c",
   "metadata": {},
   "source": [
    "# 모델 정의"
   ]
  },
  {
   "cell_type": "code",
   "execution_count": 37,
   "id": "f7277a98-39f6-4764-9772-e41db468cca4",
   "metadata": {},
   "outputs": [],
   "source": [
    "class DiabatesDense(nn.Module):\n",
    "    def __init__(self):\n",
    "        super(DiabatesDense, self).__init__()\n",
    "        self.fc1 = nn.Linear(64, 48)\n",
    "        self.fc2 = nn.Linear(48, 32)\n",
    "        self.fc3 = nn.Linear(32, 16)\n",
    "        self.fc4 = nn.Linear(16, 10)  #피쳐가 10개임 0~9\n",
    "    \n",
    "    def forward(self, x):\n",
    "        x = torch.relu(self.fc1(x))\n",
    "        x = torch.relu(self.fc2(x))\n",
    "        x = torch.relu(self.fc3(x))\n",
    "        x = self.fc4(x)\n",
    "        return x\n",
    "\n",
    "# Initialize the model, loss function, and optimizer\n",
    "model = DiabatesDense()"
   ]
  },
  {
   "cell_type": "markdown",
   "id": "d531aa05-602e-47f2-a37f-80912c456e5b",
   "metadata": {},
   "source": [
    "# 손실 함수 및 최적화 기법 정의"
   ]
  },
  {
   "cell_type": "code",
   "execution_count": 38,
   "id": "50d2e455-bdc1-4bf6-ba68-310c488c1d0f",
   "metadata": {},
   "outputs": [],
   "source": [
    "criterion = nn.CrossEntropyLoss()\n",
    "optimizer = optim.Adam(model.parameters(), lr=0.001)"
   ]
  },
  {
   "cell_type": "markdown",
   "id": "7373d694-dd67-41c8-b504-19633cd02c53",
   "metadata": {},
   "source": [
    "# 모델 학습"
   ]
  },
  {
   "cell_type": "code",
   "execution_count": 41,
   "id": "82cce9ee-de9c-4081-be3e-f60d07f6e97e",
   "metadata": {},
   "outputs": [
    {
     "name": "stdout",
     "output_type": "stream",
     "text": [
      "Epoch 1/20, Loss: 2.0095, Accuracy: 51.67%\n",
      "Epoch 2/20, Loss: 1.0383, Accuracy: 88.33%\n",
      "Epoch 3/20, Loss: 0.3936, Accuracy: 92.22%\n",
      "Epoch 4/20, Loss: 0.2392, Accuracy: 93.61%\n",
      "Epoch 5/20, Loss: 0.1722, Accuracy: 93.06%\n",
      "Epoch 6/20, Loss: 0.1505, Accuracy: 92.78%\n",
      "Epoch 7/20, Loss: 0.1206, Accuracy: 96.39%\n",
      "Epoch 8/20, Loss: 0.1263, Accuracy: 95.56%\n",
      "Epoch 9/20, Loss: 0.0958, Accuracy: 96.11%\n",
      "Epoch 10/20, Loss: 0.0862, Accuracy: 97.50%\n",
      "Epoch 11/20, Loss: 0.0748, Accuracy: 96.39%\n",
      "Epoch 12/20, Loss: 0.0707, Accuracy: 96.67%\n",
      "Epoch 13/20, Loss: 0.0589, Accuracy: 96.94%\n",
      "Epoch 14/20, Loss: 0.0578, Accuracy: 95.83%\n",
      "Epoch 15/20, Loss: 0.0548, Accuracy: 97.22%\n",
      "Epoch 16/20, Loss: 0.0459, Accuracy: 97.50%\n",
      "Epoch 17/20, Loss: 0.0397, Accuracy: 96.94%\n",
      "Epoch 18/20, Loss: 0.0351, Accuracy: 97.50%\n",
      "Epoch 19/20, Loss: 0.0327, Accuracy: 96.67%\n",
      "Epoch 20/20, Loss: 0.0264, Accuracy: 97.22%\n",
      "Training complete.\n"
     ]
    }
   ],
   "source": [
    "# Variables to store loss and accuracy\n",
    "train_losses = []\n",
    "test_accuracies = []\n",
    "\n",
    "# Training loop\n",
    "num_epochs = 20\n",
    "for epoch in range(num_epochs):\n",
    "    model.train()\n",
    "    running_loss = 0.0\n",
    "    for inputs, labels in train_dataloader:\n",
    "        labels = labels.long()\n",
    "        #labels = labels.float().unsqueeze(1)\n",
    "        # Zero the parameter gradients\n",
    "        optimizer.zero_grad()\n",
    "\n",
    "        # Forward pass\n",
    "        outputs = model(inputs)\n",
    "        loss = criterion(outputs, labels)\n",
    "\n",
    "        # Backward pass and optimize\n",
    "        loss.backward()\n",
    "        optimizer.step()\n",
    "\n",
    "        running_loss += loss.item()\n",
    "\n",
    "    # Calculate average loss over an epoch\n",
    "    train_losses.append(running_loss / len(train_dataloader))\n",
    "\n",
    "    # Evaluate on test data\n",
    "    model.eval()\n",
    "    correct = 0\n",
    "    total = 0\n",
    "    with torch.no_grad():\n",
    "        for inputs, labels in test_dataloader:\n",
    "            #labels = labels.float().unsqueeze(1)   \n",
    "            outputs = model(inputs)\n",
    "            _, predicted = torch.max(outputs.data, 1)  #이진 분류에서는 사용 X. 다중에서 사용\n",
    "\n",
    "            #probs = torch.sigmoid(outputs)          #이진에서\n",
    "            #predicted = (probs >= 0.5).float()      #사용\n",
    "\n",
    "            total += labels.size(0)\n",
    "            correct += (predicted == labels).sum().item()  \n",
    "    accuracy = 100 * correct / total\n",
    "    test_accuracies.append(accuracy)\n",
    "\n",
    "    print(f\"Epoch {epoch + 1}/{num_epochs}, Loss: {train_losses[-1]:.4f}, Accuracy: {accuracy:.2f}%\")\n",
    "\n",
    "print(\"Training complete.\")"
   ]
  },
  {
   "cell_type": "markdown",
   "id": "c3ccb33e-6052-4813-b1f6-ac2c49a9ad89",
   "metadata": {},
   "source": [
    "# 모델 평가"
   ]
  },
  {
   "cell_type": "code",
   "execution_count": 42,
   "id": "242768ed-c6bb-473b-b142-8500c871b26e",
   "metadata": {},
   "outputs": [
    {
     "name": "stdout",
     "output_type": "stream",
     "text": [
      "Confusion Matrix:\n",
      "[[31  0  0  0  1  0  0  0  0  0]\n",
      " [ 0 39  0  0  0  0  0  0  0  1]\n",
      " [ 0  0 34  0  0  0  0  0  0  0]\n",
      " [ 0  0  0 30  0  0  0  0  0  0]\n",
      " [ 0  0  0  0 33  0  0  2  0  0]\n",
      " [ 0  1  0  0  0 41  0  0  0  0]\n",
      " [ 0  0  0  0  0  0 35  0  0  0]\n",
      " [ 0  0  0  0  0  0  0 36  0  0]\n",
      " [ 0  2  0  0  0  0  0  0 35  0]\n",
      " [ 0  0  0  1  0  0  0  1  1 36]]\n",
      "F1 Score: 0.97\n",
      "Precision: 0.97\n",
      "Recall: 0.97\n",
      "Specificity: 1.00\n"
     ]
    }
   ],
   "source": [
    "# Evaluation\n",
    "model.eval()\n",
    "all_labels = []\n",
    "all_predictions = []\n",
    "with torch.no_grad():\n",
    "    for inputs, labels in test_dataloader:\n",
    "        outputs = model(inputs)\n",
    "        _, predicted = torch.max(outputs.data, 1)\n",
    "\n",
    "        #probs = torch.sigmoid(outputs)     #이진에서\n",
    "        #predicted = (probs >= 0.5).float() #사용\n",
    "        \n",
    "        all_labels.extend(labels.cpu().numpy())\n",
    "        all_predictions.extend(predicted.cpu().numpy())\n",
    "\n",
    "# Convert to numpy arrays\n",
    "all_labels = np.array(all_labels)\n",
    "all_predictions = np.array(all_predictions)\n",
    "\n",
    "# Calculate metrics\n",
    "conf_matrix = confusion_matrix(all_labels, all_predictions)\n",
    "f1 = f1_score(all_labels, all_predictions, average='weighted')\n",
    "precision = precision_score(all_labels, all_predictions, average='weighted')\n",
    "recall = recall_score(all_labels, all_predictions, average='weighted')\n",
    "\n",
    "# Calculate specificity for each class\n",
    "specificity = []\n",
    "for i in range(conf_matrix.shape[0]):\n",
    "    tn = conf_matrix.sum() - (conf_matrix[i, :].sum() + conf_matrix[:, i].sum() - conf_matrix[i, i])\n",
    "    fp = conf_matrix[:, i].sum() - conf_matrix[i, i]\n",
    "    specificity.append(tn / (tn + fp))\n",
    "\n",
    "print(f'Confusion Matrix:\\n{conf_matrix}')\n",
    "print(f'F1 Score: {f1:.2f}')\n",
    "print(f'Precision: {precision:.2f}')\n",
    "print(f'Recall: {recall:.2f}')\n",
    "print(f'Specificity: {np.mean(specificity):.2f}')"
   ]
  }
 ],
 "metadata": {
  "kernelspec": {
   "display_name": "Python 3 (ipykernel)",
   "language": "python",
   "name": "python3"
  },
  "language_info": {
   "codemirror_mode": {
    "name": "ipython",
    "version": 3
   },
   "file_extension": ".py",
   "mimetype": "text/x-python",
   "name": "python",
   "nbconvert_exporter": "python",
   "pygments_lexer": "ipython3",
   "version": "3.12.7"
  }
 },
 "nbformat": 4,
 "nbformat_minor": 5
}
